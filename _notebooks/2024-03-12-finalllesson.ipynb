{
 "cells": [
  {
   "cell_type": "markdown",
   "metadata": {},
   "source": [
    "---\n",
    "toc: true\n",
    "comments: true\n",
    "layout: post\n",
    "title: Methods & Control Structures Lesson (Math Class)\n",
    "description: Lessons for methods & control structures\n",
    "type: tangibles\n",
    "courses: { csa: {week: 28} }\n",
    "---"
   ]
  },
  {
   "cell_type": "markdown",
   "metadata": {},
   "source": [
    "## Math Class\n",
    "\n",
    "## Intro\n",
    "The Math class in Java is part of the java.lang package, which is automatically imported, hence you don't need to manually import it. The Math class provides a collection of methods and constants for performing mathematical operations.\n",
    "\n",
    "## Key points about the Math class:\n",
    "- Static Methods: The methods of the Math class are static, meaning you can call them directly using the class name without needing to create an instance of the Math class. For example, Math.sqrt(25) will return 5.0.\n",
    "Commonly Used Methods:\n",
    "- Math.abs(double a): Returns the absolute value of a.\n",
    "- Math.sqrt(double a): Returns the square root of a.\n",
    "- Math.pow(double a, double b): Returns a raised to the power of b.\n",
    "- Math.max(double a, double b): Returns the greater of a and b.\n",
    "- Math.min(double a, double b): Returns the lesser of a and b.\n",
    "- Math.round(double a): Rounds a to the nearest integer.\n",
    "- Math.random(): Returns a double value greater than or equal to 0.0 and less than 1.0.\n",
    "\n",
    "## Evaluation of Expressions Using the Math Class\n",
    "Let's dive into evaluating expressions and demonstrating program statements using Math class methods. We will explore how to use these methods in Java code through examples.\n",
    "\n",
    "### Example 1: Calculating the Hypotenuse of a Right Triangle"
   ]
  },
  {
   "cell_type": "code",
   "execution_count": 1,
   "metadata": {},
   "outputs": [
    {
     "name": "stdout",
     "output_type": "stream",
     "text": [
      "Hypotenuse: 5.0\n"
     ]
    }
   ],
   "source": [
    "public class Triangle {\n",
    "    public static void main(String[] args){\n",
    "        double a = 3;\n",
    "        double b = 4;\n",
    "        double c = Math.sqrt(Math.pow(a, 2) + Math.pow(b, 2));\n",
    "        System.out.println(\"Hypotenuse: \" + c);\n",
    "    }\n",
    "}\n",
    "Triangle.main(null)"
   ]
  },
  {
   "cell_type": "markdown",
   "metadata": {},
   "source": [
    "### Example 2: Finding the Larger of Two Numbers"
   ]
  },
  {
   "cell_type": "code",
   "execution_count": 2,
   "metadata": {},
   "outputs": [
    {
     "name": "stdout",
     "output_type": "stream",
     "text": [
      "The larger number is: 7.25\n"
     ]
    }
   ],
   "source": [
    "public class Larger{\n",
    "    public static void main(String[] args){\n",
    "        double num1 = 7.25;\n",
    "        double num2 = 7.20;\n",
    "        double larger = Math.max(num1, num2);\n",
    "        System.out.println(\"The larger number is: \" + larger);\n",
    "    }\n",
    "}\n",
    "Larger.main(null)"
   ]
  },
  {
   "cell_type": "markdown",
   "metadata": {},
   "source": [
    "## Using Math.random() and Setting Up a Range\n",
    "Math.random() is a versatile method used to generate random numbers. However, it returns a double value that is greater than or equal to 0.0 and less than 1.0. Often, you'll need a random integer within a specific range, say from min to max (inclusive). To achieve this, you can scale and shift the result of Math.random().\n",
    "\n",
    "### Example: Generating a Random Integer Between 1 and 10"
   ]
  },
  {
   "cell_type": "code",
   "execution_count": 5,
   "metadata": {},
   "outputs": [
    {
     "name": "stdout",
     "output_type": "stream",
     "text": [
      "Random Number: 2\n"
     ]
    }
   ],
   "source": [
    "public class Generate{\n",
    "    public static void main(String[] args){\n",
    "        int min = 1;\n",
    "        int max = 10;\n",
    "        int randomNum = (int)(Math.random() * ((max - min) + 1)) + min;\n",
    "        System.out.println(\"Random Number: \" + randomNum);\n",
    "    }\n",
    "}\n",
    "Generate.main(null)"
   ]
  },
  {
   "cell_type": "markdown",
   "metadata": {},
   "source": [
    "\n",
    "## Hacks\n",
    "In this assignment, you will work with a collection of randomly generated data represented by an ArrayList of ArrayLists of integers. You will design a class, named `DataList`, from scratch and implement methods within this class to manipulate the data according to specified criteria.\n",
    "\n",
    "#### Requirements\n",
    "\n",
    "1.  **Class Declaration**: Create a `DataList` class that encapsulates a collection of data.\n",
    "    \n",
    "    *   The data collection should be an `ArrayList` of `ArrayList` of integers (`ArrayList<ArrayList<Integer>>`).\n",
    "    *   Include any necessary instance variables and a constructor to initialize the data structure.\n",
    "2.  **`repopulate` Method**:\n",
    "    \n",
    "    *   Write a method named `repopulate` in the `DataList` class. This method should fill each element of the collection with randomly generated values according to the following criteria:\n",
    "        *   Each value must be between 1 and `MAX` (inclusive), where `MAX` is a predefined constant in your class with a value that is not shown.\n",
    "        *   Each value must be divisible by 10.\n",
    "        *   Each value must not be divisible by 100.\n",
    "    *   Ensure that all valid values have an equal chance of being generated.\n",
    "    *   Precondition: The collection is not null and has at least one element.\n",
    "\n",
    "#### Instructions\n",
    "\n",
    "*   **Design**: Consider how you will structure your `DataList` class, including the choice of instance variables and the design of your constructor to properly initialize the data collection.\n",
    "*   **Implementation**: Implement the `repopulate` method to meet the specified criteria. Think about how you can efficiently generate values that meet the requirements and how you'll iterate through the ArrayList of ArrayLists to assign these values.\n",
    "*   **Testing**: After implementing the `repopulate` method, consider writing a simple main method or unit tests to verify that your method works as expected. Generate a small collection and print the results to ensure values are correctly assigned according to the criteria."
   ]
  }
 ],
 "metadata": {
  "kernelspec": {
   "display_name": "Java",
   "language": "java",
   "name": "java"
  },
  "language_info": {
   "codemirror_mode": "java",
   "file_extension": ".jshell",
   "mimetype": "text/x-java-source",
   "name": "java",
   "pygments_lexer": "java",
   "version": "17.0.8+7-Ubuntu-120.04.2"
  }
 },
 "nbformat": 4,
 "nbformat_minor": 2
}
